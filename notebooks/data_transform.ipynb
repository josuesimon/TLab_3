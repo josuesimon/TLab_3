{
 "cells": [
  {
   "cell_type": "code",
   "execution_count": 1,
   "metadata": {},
   "outputs": [
    {
     "name": "stdout",
     "output_type": "stream",
     "text": [
      "The yearly medians data has been saved to yearly_medians.csv.\n",
      "The merged yearly medians with harvest data has been saved to yearly_medians_with_harvest.csv.\n"
     ]
    }
   ],
   "source": [
    "import pandas as pd\n",
    "\n",
    "# We are setting up the path for out input and output of our CSV files to sit in data/csv\n",
    "input_csv_path = '../weather_api/data/csv/br_final.csv'  # Using br_final.csv for both weather and harvest data\n",
    "output_dir = '../data/csv'\n",
    "\n",
    "# We will read the data in the CSV file and drop any rows with missing values\n",
    "data = pd.read_csv(input_csv_path)\n",
    "data = data.dropna()\n",
    "\n",
    "# We will convert the relevant columns to numeric values and any errors that occur we will mark them as NaN (not a number).\n",
    "#Any rows with missing values after the conversion will be dropped.\n",
    "numeric_columns = ['million_60kgs_bag', 'nonbear_mill_trees', 'bear_mill_trees', 'avg_unemp_perc']\n",
    "data[numeric_columns] = data[numeric_columns].apply(pd.to_numeric, errors='coerce')\n",
    "data = data.dropna()\n",
    "\n",
    "# We will calculate the yearly medians and save it to a new CSV file called yearly_medians.csv\n",
    "yearly_medians = data.groupby('year')[numeric_columns].median().reset_index()\n",
    "yearly_medians.to_csv(f'{output_dir}/yearly_medians.csv', index=False)\n",
    "print(\"The yearly medians data has been saved to yearly_medians.csv.\")\n",
    "\n",
    "# We will extract the relevant harvest data from the input_csv_path and then merge this data with the yearly medians to create\n",
    "# and save a new CSV file called yearly_medians_with_harvest.csv\n",
    "harvest_data = data[['year', 'million_60kgs_bag', 'nonbear_mill_trees', 'bear_mill_trees', 'avg_unemp_perc']].dropna()\n",
    "yearly_medians_with_harvest = pd.merge(yearly_medians, harvest_data, on='year', how='left')\n",
    "yearly_medians_with_harvest.to_csv(f'{output_dir}/yearly_medians_with_harvest.csv', index=False)\n",
    "print(\"The merged yearly medians with harvest data has been saved to yearly_medians_with_harvest.csv.\")"
   ]
  }
 ],
 "metadata": {
  "kernelspec": {
   "display_name": "base",
   "language": "python",
   "name": "python3"
  },
  "language_info": {
   "codemirror_mode": {
    "name": "ipython",
    "version": 3
   },
   "file_extension": ".py",
   "mimetype": "text/x-python",
   "name": "python",
   "nbconvert_exporter": "python",
   "pygments_lexer": "ipython3",
   "version": "3.12.7"
  }
 },
 "nbformat": 4,
 "nbformat_minor": 2
}
